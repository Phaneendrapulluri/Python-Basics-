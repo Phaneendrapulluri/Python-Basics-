{
 "cells": [
  {
   "cell_type": "raw",
   "metadata": {},
   "source": [
    "# Answer 1:"
   ]
  },
  {
   "cell_type": "code",
   "execution_count": 2,
   "metadata": {},
   "outputs": [],
   "source": [
    "import numpy as np"
   ]
  },
  {
   "cell_type": "code",
   "execution_count": 4,
   "metadata": {},
   "outputs": [
    {
     "name": "stdout",
     "output_type": "stream",
     "text": [
      "[ 2  5  8 11 14 17 20 23 26 29 32 35 38 41 44 47 50]\n"
     ]
    }
   ],
   "source": [
    "arr = np.arange(2,51,3)\n",
    "print(arr)"
   ]
  },
  {
   "cell_type": "raw",
   "metadata": {},
   "source": [
    "# Answer 2:"
   ]
  },
  {
   "cell_type": "code",
   "execution_count": 9,
   "metadata": {},
   "outputs": [
    {
     "name": "stdout",
     "output_type": "stream",
     "text": [
      "Enter 5 numbers into list1\n",
      "1\n",
      "2\n",
      "3\n",
      "4\n",
      "5\n",
      "Enter 5 numbers into list2\n",
      "6\n",
      "7\n",
      "8\n",
      "9\n",
      "10\n",
      "The concotenated numpy array is:  [ 1  2  3  4  5  6  7  8  9 10]\n"
     ]
    }
   ],
   "source": [
    "l1=[]\n",
    "l2=[]\n",
    "i=0\n",
    "j=0\n",
    "print(\"Enter 5 numbers into list1\")\n",
    "while i<5:\n",
    "    l1.append(int(input()))\n",
    "    i+=1\n",
    "print(\"Enter 5 numbers into list2\")\n",
    "while j<5:\n",
    "    l2.append(int(input()))\n",
    "    j+=1\n",
    "arr1 = np.array(l1)\n",
    "arr2 = np.array(l2)\n",
    "print(\"The concotenated numpy array is: \",np.concatenate((arr1,arr2)))"
   ]
  },
  {
   "cell_type": "raw",
   "metadata": {},
   "source": [
    "# Answer 3:"
   ]
  },
  {
   "cell_type": "code",
   "execution_count": 12,
   "metadata": {},
   "outputs": [
    {
     "name": "stdout",
     "output_type": "stream",
     "text": [
      "The dimensions and size of given array is: (2, 3)\n"
     ]
    }
   ],
   "source": [
    "arr = np.array([[1,2,3],[4,5,6]])\n",
    "print(\"The dimensions and size of given array is:\",arr.shape)"
   ]
  },
  {
   "cell_type": "raw",
   "metadata": {},
   "source": [
    "# Answer 4:"
   ]
  },
  {
   "cell_type": "code",
   "execution_count": 21,
   "metadata": {},
   "outputs": [
    {
     "name": "stdout",
     "output_type": "stream",
     "text": [
      "[ 0  1  2  3  4  5  6  7  8  9 10 11 12] (13,)\n",
      "[[ 0]\n",
      " [ 1]\n",
      " [ 2]\n",
      " [ 3]\n",
      " [ 4]\n",
      " [ 5]\n",
      " [ 6]\n",
      " [ 7]\n",
      " [ 8]\n",
      " [ 9]\n",
      " [10]\n",
      " [11]\n",
      " [12]] (13, 1)\n",
      "[[ 0  1  2  3  4  5  6  7  8  9 10 11 12]] (1, 13)\n"
     ]
    }
   ],
   "source": [
    "arr = np.arange(13)\n",
    "print(arr,arr.shape)\n",
    "arr_2d = arr[:,np.newaxis]\n",
    "print(arr_2d,arr_2d.shape)\n",
    "arr_2d = arr[np.newaxis]\n",
    "print(arr_2d,arr_2d.shape)"
   ]
  },
  {
   "cell_type": "raw",
   "metadata": {},
   "source": [
    "# Answer 5:"
   ]
  },
  {
   "cell_type": "code",
   "execution_count": 28,
   "metadata": {},
   "outputs": [
    {
     "name": "stdout",
     "output_type": "stream",
     "text": [
      "Horizantal stack:\n",
      "[  1   4   9  16  25  36  49  64  81 100]\n",
      "Vertical stack:\n",
      "[[  1   4   9  16  25]\n",
      " [ 36  49  64  81 100]]\n"
     ]
    }
   ],
   "source": [
    "arr1 = np.square([1,2,3,4,5])\n",
    "arr2 = np.square([6,7,8,9,10])\n",
    "print(\"Horizantal stack:\")\n",
    "print(np.hstack((arr1,arr2)))\n",
    "print(\"Vertical stack:\")\n",
    "print(np.vstack((arr1,arr2)))"
   ]
  },
  {
   "cell_type": "raw",
   "metadata": {},
   "source": [
    "# Answer 6:"
   ]
  },
  {
   "cell_type": "code",
   "execution_count": 30,
   "metadata": {},
   "outputs": [
    {
     "name": "stdout",
     "output_type": "stream",
     "text": [
      "[[1 4]\n",
      " [2 3]\n",
      " [3 3]\n",
      " [4 2]\n",
      " [5 1]]\n"
     ]
    }
   ],
   "source": [
    "arr = np.array([1,1,1,1,2,2,2,3,3,3,4,4,5])\n",
    "\n",
    "unique, counts = np.unique(arr, return_counts=True)\n",
    "arr = np.asarray((unique, counts)).T\n",
    "print(arr)"
   ]
  },
  {
   "cell_type": "code",
   "execution_count": null,
   "metadata": {},
   "outputs": [],
   "source": []
  }
 ],
 "metadata": {
  "kernelspec": {
   "display_name": "Python 3",
   "language": "python",
   "name": "python3"
  },
  "language_info": {
   "codemirror_mode": {
    "name": "ipython",
    "version": 3
   },
   "file_extension": ".py",
   "mimetype": "text/x-python",
   "name": "python",
   "nbconvert_exporter": "python",
   "pygments_lexer": "ipython3",
   "version": "3.8.3"
  }
 },
 "nbformat": 4,
 "nbformat_minor": 4
}
