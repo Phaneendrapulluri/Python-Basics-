{
 "cells": [
  {
   "cell_type": "raw",
   "metadata": {},
   "source": [
    "# Answer 1: Create list and appending a number to it if it is even"
   ]
  },
  {
   "cell_type": "code",
   "execution_count": 7,
   "metadata": {},
   "outputs": [
    {
     "name": "stdout",
     "output_type": "stream",
     "text": [
      "Enter number  1 :\n",
      "1\n",
      "Enter number  2 :\n",
      "2\n",
      "Enter number  3 :\n",
      "3\n",
      "Enter number  4 :\n",
      "4\n",
      "Enter number  5 :\n",
      "5\n",
      "Enter number  6 :\n",
      "6\n",
      "Enter number  7 :\n",
      "7\n",
      "Enter number  8 :\n",
      "8\n",
      "Enter number  9 :\n",
      "9\n",
      "Enter number  10 :\n",
      "10\n",
      "List formed is  [2, 4, 6, 8, 10]\n"
     ]
    }
   ],
   "source": [
    "l=[]\n",
    "i=1;\n",
    "while i<=10:\n",
    "    print(\"Enter number \",i,\":\")\n",
    "    n=int(input())\n",
    "    if n%2==0:\n",
    "        l.append(n)\n",
    "    i+=1\n",
    "print(\"List formed is \",l)"
   ]
  },
  {
   "cell_type": "raw",
   "metadata": {},
   "source": [
    "# Answer 2: List Comprehensions"
   ]
  },
  {
   "cell_type": "code",
   "execution_count": 10,
   "metadata": {},
   "outputs": [
    {
     "name": "stdout",
     "output_type": "stream",
     "text": [
      "[1, 4, 9, 16, 25, 36]\n"
     ]
    }
   ],
   "source": [
    "n=[1,2,3,4,5,6]\n",
    "sq=[_**2 for _ in n]\n",
    "print(sq)"
   ]
  },
  {
   "cell_type": "raw",
   "metadata": {},
   "source": [
    "# Answer 3:"
   ]
  },
  {
   "cell_type": "code",
   "execution_count": 16,
   "metadata": {},
   "outputs": [
    {
     "name": "stdout",
     "output_type": "stream",
     "text": [
      "enter the number:\n",
      "8\n",
      "{1: 1, 2: 4, 3: 9, 4: 16, 5: 25, 6: 36, 7: 49, 8: 64}\n"
     ]
    }
   ],
   "source": [
    "print(\"enter the number:\")\n",
    "n=int(input())\n",
    "dic={}\n",
    "for i in range(1,n+1):\n",
    "    dic.update({i:i*i})\n",
    "print(dic)"
   ]
  },
  {
   "cell_type": "raw",
   "metadata": {},
   "source": [
    "# Answer 4:"
   ]
  },
  {
   "cell_type": "code",
   "execution_count": 21,
   "metadata": {},
   "outputs": [
    {
     "name": "stdout",
     "output_type": "stream",
     "text": [
      "Input:\n",
      "4\n",
      "UP 5\n",
      "DOWN 3\n",
      "LEFT 3\n",
      "RIGHT 2\n",
      "Output:\n",
      "2\n"
     ]
    }
   ],
   "source": [
    "print(\"Input:\")\n",
    "n=int(input())\n",
    "f=0\n",
    "b=0\n",
    "i=0\n",
    "l=[]\n",
    "while i<n:\n",
    "    l=input().split(\" \")\n",
    "    if l[0]==\"UP\":\n",
    "        f+=int(l[1])\n",
    "    elif l[0]==\"DOWN\":\n",
    "        f-=int(l[1])\n",
    "    elif l[0]==\"LEFT\":\n",
    "        b-=int(l[1])\n",
    "    else:\n",
    "        b+=int(l[1])\n",
    "    i+=1\n",
    "print(\"Output:\")\n",
    "print(round((int(f)**2+int(b)**2)**0.5))"
   ]
  },
  {
   "cell_type": "code",
   "execution_count": null,
   "metadata": {},
   "outputs": [],
   "source": []
  }
 ],
 "metadata": {
  "kernelspec": {
   "display_name": "Python 3",
   "language": "python",
   "name": "python3"
  },
  "language_info": {
   "codemirror_mode": {
    "name": "ipython",
    "version": 3
   },
   "file_extension": ".py",
   "mimetype": "text/x-python",
   "name": "python",
   "nbconvert_exporter": "python",
   "pygments_lexer": "ipython3",
   "version": "3.8.3"
  }
 },
 "nbformat": 4,
 "nbformat_minor": 4
}
