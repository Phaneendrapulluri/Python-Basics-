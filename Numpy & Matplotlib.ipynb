{
 "cells": [
  {
   "cell_type": "markdown",
   "metadata": {},
   "source": [
    "# Numpy"
   ]
  },
  {
   "cell_type": "code",
   "execution_count": 1,
   "metadata": {},
   "outputs": [],
   "source": [
    "# Numpy is too fast compared to list and dict\n",
    "# Num- Numerical\n",
    "# py - python\n",
    "# Numpy is backbone of ML in python\n",
    "# 10x faster\n",
    "# supports core python by [providing matrices]"
   ]
  },
  {
   "cell_type": "raw",
   "metadata": {},
   "source": [
    ">nd array\n",
    ">u(universal) functions"
   ]
  },
  {
   "cell_type": "code",
   "execution_count": 3,
   "metadata": {},
   "outputs": [],
   "source": [
    "import numpy"
   ]
  },
  {
   "cell_type": "code",
   "execution_count": 4,
   "metadata": {},
   "outputs": [
    {
     "name": "stdout",
     "output_type": "stream",
     "text": [
      "1.18.5\n"
     ]
    }
   ],
   "source": [
    "print(numpy.__version__)"
   ]
  },
  {
   "cell_type": "code",
   "execution_count": 5,
   "metadata": {},
   "outputs": [],
   "source": [
    "import numpy as np # numpy as np(alias name)"
   ]
  },
  {
   "cell_type": "code",
   "execution_count": 6,
   "metadata": {},
   "outputs": [
    {
     "name": "stdout",
     "output_type": "stream",
     "text": [
      "1.18.5\n"
     ]
    }
   ],
   "source": [
    "print(np.__version__)"
   ]
  },
  {
   "cell_type": "code",
   "execution_count": 7,
   "metadata": {},
   "outputs": [],
   "source": [
    "arr = np.array([1,2,3]) "
   ]
  },
  {
   "cell_type": "code",
   "execution_count": 8,
   "metadata": {},
   "outputs": [
    {
     "name": "stdout",
     "output_type": "stream",
     "text": [
      "<class 'numpy.ndarray'>\n",
      "[1 2 3]\n"
     ]
    }
   ],
   "source": [
    "print(type(arr))\n",
    "print(arr)"
   ]
  },
  {
   "cell_type": "code",
   "execution_count": 9,
   "metadata": {},
   "outputs": [
    {
     "data": {
      "text/plain": [
       "dtype('int32')"
      ]
     },
     "execution_count": 9,
     "metadata": {},
     "output_type": "execute_result"
    }
   ],
   "source": [
    "arr.dtype"
   ]
  },
  {
   "cell_type": "code",
   "execution_count": 11,
   "metadata": {},
   "outputs": [
    {
     "data": {
      "text/plain": [
       "6"
      ]
     },
     "execution_count": 11,
     "metadata": {},
     "output_type": "execute_result"
    }
   ],
   "source": [
    "np.sum(arr)"
   ]
  },
  {
   "cell_type": "code",
   "execution_count": 15,
   "metadata": {},
   "outputs": [
    {
     "name": "stdout",
     "output_type": "stream",
     "text": [
      "<class 'numpy.ndarray'>\n",
      "[1. 2. 3.]\n"
     ]
    },
    {
     "data": {
      "text/plain": [
       "dtype('float64')"
      ]
     },
     "execution_count": 15,
     "metadata": {},
     "output_type": "execute_result"
    }
   ],
   "source": [
    "arr = np.array([1,2.0,3])\n",
    "print(type(arr))\n",
    "print(arr)\n",
    "arr.dtype"
   ]
  },
  {
   "cell_type": "code",
   "execution_count": 16,
   "metadata": {},
   "outputs": [
    {
     "data": {
      "text/plain": [
       "6.0"
      ]
     },
     "execution_count": 16,
     "metadata": {},
     "output_type": "execute_result"
    }
   ],
   "source": [
    "np.sum(arr)"
   ]
  },
  {
   "cell_type": "code",
   "execution_count": 22,
   "metadata": {},
   "outputs": [
    {
     "name": "stdout",
     "output_type": "stream",
     "text": [
      "<class 'numpy.ndarray'>\n",
      "(3,)\n"
     ]
    },
    {
     "data": {
      "text/plain": [
       "dtype('<U32')"
      ]
     },
     "execution_count": 22,
     "metadata": {},
     "output_type": "execute_result"
    }
   ],
   "source": [
    "arr = np.array([1,2.0,\"phani\"])\n",
    "print(type(arr))\n",
    "print(arr.shape) # no. of elements\n",
    "arr.dtype"
   ]
  },
  {
   "cell_type": "code",
   "execution_count": 18,
   "metadata": {},
   "outputs": [
    {
     "data": {
      "text/plain": [
       "array([[1, 2, 3],\n",
       "       [4, 5, 6],\n",
       "       [7, 8, 9]])"
      ]
     },
     "execution_count": 18,
     "metadata": {},
     "output_type": "execute_result"
    }
   ],
   "source": [
    "arr = np.array([[1,2,3],[4,5,6],[7,8,9]])\n",
    "arr"
   ]
  },
  {
   "cell_type": "code",
   "execution_count": 19,
   "metadata": {},
   "outputs": [
    {
     "data": {
      "text/plain": [
       "dtype('int32')"
      ]
     },
     "execution_count": 19,
     "metadata": {},
     "output_type": "execute_result"
    }
   ],
   "source": [
    "arr.dtype"
   ]
  },
  {
   "cell_type": "code",
   "execution_count": 20,
   "metadata": {},
   "outputs": [
    {
     "data": {
      "text/plain": [
       "(3, 3)"
      ]
     },
     "execution_count": 20,
     "metadata": {},
     "output_type": "execute_result"
    }
   ],
   "source": [
    "arr.shape"
   ]
  },
  {
   "cell_type": "code",
   "execution_count": 23,
   "metadata": {},
   "outputs": [
    {
     "data": {
      "text/plain": [
       "array([list([1, 2, 3]), list([4, 5, 6]), list([7, 9])], dtype=object)"
      ]
     },
     "execution_count": 23,
     "metadata": {},
     "output_type": "execute_result"
    }
   ],
   "source": [
    "arr = np.array([[1,2,3],[4,5,6],[7,9]])\n",
    "arr"
   ]
  },
  {
   "cell_type": "code",
   "execution_count": 24,
   "metadata": {},
   "outputs": [
    {
     "name": "stdout",
     "output_type": "stream",
     "text": [
      "[list([1, 2, 3]) list([4, 5, 6]) list([7, 9])]\n"
     ]
    },
    {
     "data": {
      "text/plain": [
       "(3,)"
      ]
     },
     "execution_count": 24,
     "metadata": {},
     "output_type": "execute_result"
    }
   ],
   "source": [
    "print(arr)\n",
    "arr.shape"
   ]
  },
  {
   "cell_type": "code",
   "execution_count": 25,
   "metadata": {},
   "outputs": [],
   "source": [
    "arr=np.zeros((6,9))"
   ]
  },
  {
   "cell_type": "code",
   "execution_count": 26,
   "metadata": {},
   "outputs": [
    {
     "name": "stdout",
     "output_type": "stream",
     "text": [
      "[[0. 0. 0. 0. 0. 0. 0. 0. 0.]\n",
      " [0. 0. 0. 0. 0. 0. 0. 0. 0.]\n",
      " [0. 0. 0. 0. 0. 0. 0. 0. 0.]\n",
      " [0. 0. 0. 0. 0. 0. 0. 0. 0.]\n",
      " [0. 0. 0. 0. 0. 0. 0. 0. 0.]\n",
      " [0. 0. 0. 0. 0. 0. 0. 0. 0.]]\n"
     ]
    }
   ],
   "source": [
    "print(arr)"
   ]
  },
  {
   "cell_type": "code",
   "execution_count": 27,
   "metadata": {},
   "outputs": [
    {
     "name": "stdout",
     "output_type": "stream",
     "text": [
      "[[1. 1. 1. 1. 1. 1. 1. 1. 1.]\n",
      " [1. 1. 1. 1. 1. 1. 1. 1. 1.]\n",
      " [1. 1. 1. 1. 1. 1. 1. 1. 1.]\n",
      " [1. 1. 1. 1. 1. 1. 1. 1. 1.]\n",
      " [1. 1. 1. 1. 1. 1. 1. 1. 1.]\n",
      " [1. 1. 1. 1. 1. 1. 1. 1. 1.]]\n"
     ]
    }
   ],
   "source": [
    "arr=np.ones((6,9))\n",
    "print(arr)"
   ]
  },
  {
   "cell_type": "code",
   "execution_count": 28,
   "metadata": {},
   "outputs": [
    {
     "data": {
      "text/plain": [
       "array([[1., 0., 0., 0., 0., 0.],\n",
       "       [0., 1., 0., 0., 0., 0.],\n",
       "       [0., 0., 1., 0., 0., 0.],\n",
       "       [0., 0., 0., 1., 0., 0.],\n",
       "       [0., 0., 0., 0., 1., 0.],\n",
       "       [0., 0., 0., 0., 0., 1.]])"
      ]
     },
     "execution_count": 28,
     "metadata": {},
     "output_type": "execute_result"
    }
   ],
   "source": [
    "np.identity(6)"
   ]
  },
  {
   "cell_type": "code",
   "execution_count": 32,
   "metadata": {},
   "outputs": [
    {
     "data": {
      "text/plain": [
       "array([[ 0.04580593, -0.02550979,  0.46542143],\n",
       "       [ 0.12231059, -1.22100702,  0.40894275]])"
      ]
     },
     "execution_count": 32,
     "metadata": {},
     "output_type": "execute_result"
    }
   ],
   "source": [
    "arr = np.random.randn(2,3) # creates a matrix with 2 rows n 3 columns with random values(always centered to zero in maximum cases)\n",
    "arr"
   ]
  },
  {
   "cell_type": "code",
   "execution_count": 33,
   "metadata": {},
   "outputs": [
    {
     "data": {
      "text/plain": [
       "array([[1, 2, 3],\n",
       "       [4, 5, 6],\n",
       "       [7, 8, 9]])"
      ]
     },
     "execution_count": 33,
     "metadata": {},
     "output_type": "execute_result"
    }
   ],
   "source": [
    "arr=np.array([[1,2,3],[4,5,6],[7,8,9]])\n",
    "arr"
   ]
  },
  {
   "cell_type": "code",
   "execution_count": 34,
   "metadata": {},
   "outputs": [
    {
     "data": {
      "text/plain": [
       "array([1, 2, 3])"
      ]
     },
     "execution_count": 34,
     "metadata": {},
     "output_type": "execute_result"
    }
   ],
   "source": [
    "arr[0]"
   ]
  },
  {
   "cell_type": "code",
   "execution_count": 35,
   "metadata": {},
   "outputs": [
    {
     "data": {
      "text/plain": [
       "3"
      ]
     },
     "execution_count": 35,
     "metadata": {},
     "output_type": "execute_result"
    }
   ],
   "source": [
    "arr[0][2]"
   ]
  },
  {
   "cell_type": "code",
   "execution_count": 36,
   "metadata": {},
   "outputs": [
    {
     "data": {
      "text/plain": [
       "9"
      ]
     },
     "execution_count": 36,
     "metadata": {},
     "output_type": "execute_result"
    }
   ],
   "source": [
    "arr[2][2]"
   ]
  },
  {
   "cell_type": "code",
   "execution_count": 39,
   "metadata": {},
   "outputs": [
    {
     "name": "stdout",
     "output_type": "stream",
     "text": [
      "[1 3 5]\n"
     ]
    }
   ],
   "source": [
    "print(np.arange(1,6,2)) # same as ramge function"
   ]
  },
  {
   "cell_type": "code",
   "execution_count": 42,
   "metadata": {},
   "outputs": [
    {
     "data": {
      "text/plain": [
       "array([[ 0,  1,  2,  3],\n",
       "       [ 4,  5,  6,  7],\n",
       "       [ 8,  9, 10, 11]])"
      ]
     },
     "execution_count": 42,
     "metadata": {},
     "output_type": "execute_result"
    }
   ],
   "source": [
    "np.arange(12).reshape(3,4)"
   ]
  },
  {
   "cell_type": "code",
   "execution_count": 44,
   "metadata": {},
   "outputs": [
    {
     "data": {
      "text/plain": [
       "array([[[ 0,  1,  2],\n",
       "        [ 3,  4,  5]],\n",
       "\n",
       "       [[ 6,  7,  8],\n",
       "        [ 9, 10, 11]]])"
      ]
     },
     "execution_count": 44,
     "metadata": {},
     "output_type": "execute_result"
    }
   ],
   "source": [
    "arr=np.arange(12).reshape(2,2,3) # 2 arrays with 2 rows and 3 columns\n",
    "arr"
   ]
  },
  {
   "cell_type": "code",
   "execution_count": 45,
   "metadata": {},
   "outputs": [
    {
     "data": {
      "text/plain": [
       "array([[0, 1, 2],\n",
       "       [3, 4, 5]])"
      ]
     },
     "execution_count": 45,
     "metadata": {},
     "output_type": "execute_result"
    }
   ],
   "source": [
    "arr[0]"
   ]
  },
  {
   "cell_type": "code",
   "execution_count": 46,
   "metadata": {},
   "outputs": [
    {
     "data": {
      "text/plain": [
       "array([3, 4, 5])"
      ]
     },
     "execution_count": 46,
     "metadata": {},
     "output_type": "execute_result"
    }
   ],
   "source": [
    "arr[0][1]"
   ]
  },
  {
   "cell_type": "code",
   "execution_count": 47,
   "metadata": {},
   "outputs": [
    {
     "data": {
      "text/plain": [
       "4"
      ]
     },
     "execution_count": 47,
     "metadata": {},
     "output_type": "execute_result"
    }
   ],
   "source": [
    "arr[0][1][1]"
   ]
  },
  {
   "cell_type": "code",
   "execution_count": 50,
   "metadata": {},
   "outputs": [],
   "source": [
    "arr=np.arange(12)"
   ]
  },
  {
   "cell_type": "code",
   "execution_count": 51,
   "metadata": {},
   "outputs": [
    {
     "data": {
      "text/plain": [
       "array([1, 2, 3, 4, 5])"
      ]
     },
     "execution_count": 51,
     "metadata": {},
     "output_type": "execute_result"
    }
   ],
   "source": [
    "arr[1:6]"
   ]
  },
  {
   "cell_type": "code",
   "execution_count": 52,
   "metadata": {},
   "outputs": [
    {
     "data": {
      "text/plain": [
       "4"
      ]
     },
     "execution_count": 52,
     "metadata": {},
     "output_type": "execute_result"
    }
   ],
   "source": [
    "arr[1:6][3]"
   ]
  },
  {
   "cell_type": "code",
   "execution_count": 53,
   "metadata": {},
   "outputs": [],
   "source": [
    "# U func -> broadcoasting"
   ]
  },
  {
   "cell_type": "code",
   "execution_count": 54,
   "metadata": {},
   "outputs": [
    {
     "data": {
      "text/plain": [
       "array([ 0,  1,  2,  3,  4,  5,  6,  7,  8,  9, 10, 11])"
      ]
     },
     "execution_count": 54,
     "metadata": {},
     "output_type": "execute_result"
    }
   ],
   "source": [
    "arr"
   ]
  },
  {
   "cell_type": "code",
   "execution_count": 55,
   "metadata": {},
   "outputs": [
    {
     "data": {
      "text/plain": [
       "array([ 0,  2,  4,  6,  8, 10, 12, 14, 16, 18, 20, 22])"
      ]
     },
     "execution_count": 55,
     "metadata": {},
     "output_type": "execute_result"
    }
   ],
   "source": [
    "arr*2"
   ]
  },
  {
   "cell_type": "code",
   "execution_count": 56,
   "metadata": {},
   "outputs": [
    {
     "data": {
      "text/plain": [
       "array([ 1,  2,  3,  4,  5,  6,  7,  8,  9, 10, 11, 12])"
      ]
     },
     "execution_count": 56,
     "metadata": {},
     "output_type": "execute_result"
    }
   ],
   "source": [
    "arr+1"
   ]
  },
  {
   "cell_type": "code",
   "execution_count": 60,
   "metadata": {},
   "outputs": [
    {
     "name": "stdout",
     "output_type": "stream",
     "text": [
      "[[ 0  1  2]\n",
      " [ 3  4  5]\n",
      " [ 6  7  8]\n",
      " [ 9 10 11]\n",
      " [12 13 14]]\n"
     ]
    },
    {
     "data": {
      "text/plain": [
       "array([[0],\n",
       "       [1],\n",
       "       [2],\n",
       "       [3],\n",
       "       [4]])"
      ]
     },
     "execution_count": 60,
     "metadata": {},
     "output_type": "execute_result"
    }
   ],
   "source": [
    "arr1=np.arange(15).reshape(5,3)\n",
    "arr2=np.arange(5).reshape(5,1)\n",
    "print(arr1)\n",
    "arr2"
   ]
  },
  {
   "cell_type": "code",
   "execution_count": 61,
   "metadata": {},
   "outputs": [
    {
     "data": {
      "text/plain": [
       "array([[ 0,  1,  2],\n",
       "       [ 4,  5,  6],\n",
       "       [ 8,  9, 10],\n",
       "       [12, 13, 14],\n",
       "       [16, 17, 18]])"
      ]
     },
     "execution_count": 61,
     "metadata": {},
     "output_type": "execute_result"
    }
   ],
   "source": [
    "arr1+arr2"
   ]
  },
  {
   "cell_type": "code",
   "execution_count": 64,
   "metadata": {},
   "outputs": [
    {
     "name": "stdout",
     "output_type": "stream",
     "text": [
      "[[ 0  1  2  3  4]\n",
      " [ 5  6  7  8  9]\n",
      " [10 11 12 13 14]]\n"
     ]
    },
    {
     "data": {
      "text/plain": [
       "array([[0, 1, 2, 3, 4]])"
      ]
     },
     "execution_count": 64,
     "metadata": {},
     "output_type": "execute_result"
    }
   ],
   "source": [
    "\n",
    "print(arr1)\n",
    "arr2"
   ]
  },
  {
   "cell_type": "code",
   "execution_count": 65,
   "metadata": {},
   "outputs": [
    {
     "data": {
      "text/plain": [
       "array([[ 0,  2,  4,  6,  8],\n",
       "       [ 5,  7,  9, 11, 13],\n",
       "       [10, 12, 14, 16, 18]])"
      ]
     },
     "execution_count": 65,
     "metadata": {},
     "output_type": "execute_result"
    }
   ],
   "source": [
    "arr1+arr2"
   ]
  },
  {
   "cell_type": "code",
   "execution_count": 71,
   "metadata": {},
   "outputs": [
    {
     "name": "stdout",
     "output_type": "stream",
     "text": [
      "[[ 0  1  2]\n",
      " [ 3  4  5]\n",
      " [ 6  7  8]\n",
      " [ 9 10 11]\n",
      " [12 13 14]]\n"
     ]
    },
    {
     "data": {
      "text/plain": [
       "array([[0],\n",
       "       [1],\n",
       "       [2],\n",
       "       [3],\n",
       "       [4]])"
      ]
     },
     "execution_count": 71,
     "metadata": {},
     "output_type": "execute_result"
    }
   ],
   "source": [
    "arr1=np.arange(15).reshape(5,3)\n",
    "arr2=np.arange(5).reshape(5,1)\n",
    "print(arr1)\n",
    "arr2"
   ]
  },
  {
   "cell_type": "code",
   "execution_count": 72,
   "metadata": {},
   "outputs": [
    {
     "data": {
      "text/plain": [
       "array([[ 0,  1,  2],\n",
       "       [ 4,  5,  6],\n",
       "       [ 8,  9, 10],\n",
       "       [12, 13, 14],\n",
       "       [16, 17, 18]])"
      ]
     },
     "execution_count": 72,
     "metadata": {},
     "output_type": "execute_result"
    }
   ],
   "source": [
    "arr1+arr2"
   ]
  },
  {
   "cell_type": "code",
   "execution_count": 73,
   "metadata": {},
   "outputs": [
    {
     "ename": "ValueError",
     "evalue": "shapes (5,3) and (5,1) not aligned: 3 (dim 1) != 5 (dim 0)",
     "output_type": "error",
     "traceback": [
      "\u001b[1;31m---------------------------------------------------------------------------\u001b[0m",
      "\u001b[1;31mValueError\u001b[0m                                Traceback (most recent call last)",
      "\u001b[1;32m<ipython-input-73-10bb1f92d69a>\u001b[0m in \u001b[0;36m<module>\u001b[1;34m\u001b[0m\n\u001b[1;32m----> 1\u001b[1;33m \u001b[0marr1\u001b[0m\u001b[1;33m.\u001b[0m\u001b[0mdot\u001b[0m\u001b[1;33m(\u001b[0m\u001b[0marr2\u001b[0m\u001b[1;33m)\u001b[0m\u001b[1;33m\u001b[0m\u001b[1;33m\u001b[0m\u001b[0m\n\u001b[0m",
      "\u001b[1;31mValueError\u001b[0m: shapes (5,3) and (5,1) not aligned: 3 (dim 1) != 5 (dim 0)"
     ]
    }
   ],
   "source": [
    "arr1.dot(arr2)"
   ]
  },
  {
   "cell_type": "code",
   "execution_count": 78,
   "metadata": {},
   "outputs": [
    {
     "data": {
      "text/plain": [
       "array([[20, 24],\n",
       "       [68, 84]])"
      ]
     },
     "execution_count": 78,
     "metadata": {},
     "output_type": "execute_result"
    }
   ],
   "source": [
    "a=np.array([[1,2],[5,6]])\n",
    "b=np.array([[4,6],[8,9]])\n",
    "a.dot(b) # matrix multiplication"
   ]
  },
  {
   "cell_type": "code",
   "execution_count": 81,
   "metadata": {},
   "outputs": [
    {
     "name": "stdout",
     "output_type": "stream",
     "text": [
      "[[1 2]\n",
      " [5 6]]\n",
      "[[1 5]\n",
      " [2 6]]\n"
     ]
    }
   ],
   "source": [
    "print(a)\n",
    "print(a.T) # transpose"
   ]
  },
  {
   "cell_type": "code",
   "execution_count": 82,
   "metadata": {},
   "outputs": [],
   "source": [
    "# Linear algebra\n",
    "7x + 6y - 6z = 16  # x=3.7 y=7.4 z=9.1\n",
    "3x - 4y + 8z = 55\n",
    "2x + 7y + 3z = 87"
   ]
  },
  {
   "cell_type": "code",
   "execution_count": 84,
   "metadata": {},
   "outputs": [
    {
     "data": {
      "text/plain": [
       "array([3.78289474, 7.41940789, 9.16611842])"
      ]
     },
     "execution_count": 84,
     "metadata": {},
     "output_type": "execute_result"
    }
   ],
   "source": [
    "a = np.array([[7,6,-6],[3,-4,8],[2,7,3]])\n",
    "b = np.array([16,55,87])\n",
    "np.linalg.solve(a,b)"
   ]
  },
  {
   "cell_type": "markdown",
   "metadata": {},
   "source": [
    "# Matplotlib"
   ]
  },
  {
   "cell_type": "code",
   "execution_count": 85,
   "metadata": {},
   "outputs": [],
   "source": [
    "# used for data visualization(graphs/plots)\n",
    "# as like as matlab"
   ]
  },
  {
   "cell_type": "code",
   "execution_count": 91,
   "metadata": {},
   "outputs": [],
   "source": [
    "import matplotlib.pyplot as plt"
   ]
  },
  {
   "cell_type": "code",
   "execution_count": 92,
   "metadata": {},
   "outputs": [],
   "source": [
    "plt.style.use('classic')"
   ]
  },
  {
   "cell_type": "code",
   "execution_count": 99,
   "metadata": {},
   "outputs": [
    {
     "data": {
      "text/plain": [
       "array([ 0. ,  2.5,  5. ,  7.5, 10. ])"
      ]
     },
     "execution_count": 99,
     "metadata": {},
     "output_type": "execute_result"
    }
   ],
   "source": [
    "x=np.linspace(0,10,5)\n",
    "x"
   ]
  },
  {
   "cell_type": "code",
   "execution_count": 103,
   "metadata": {},
   "outputs": [
    {
     "data": {
      "image/png": "[encoded data removed]",
      "text/plain": [
       "<Figure size 640x480 with 1 Axes>"
      ]
     },
     "metadata": {},
     "output_type": "display_data"
    }
   ],
   "source": [
    "x=np.linspace(0,10,100)\n",
    "plt.plot(x,np.sin(x))\n",
    "plt.plot(x,np.cos(x));"
   ]
  },
  {
   "cell_type": "code",
   "execution_count": 104,
   "metadata": {},
   "outputs": [
    {
     "data": {
      "application/javascript": [
       "/* Put everything inside the global mpl namespace */\n",
       "window.mpl = {};\n",
       "\n",
       "\n",
       "mpl.get_websocket_type = function() {\n",
       "    if (typeof(WebSocket) !== 'undefined') {\n",
       "        return WebSocket;\n",
       "    } else if (typeof(MozWebSocket) !== 'undefined') {\n",
       "        return MozWebSocket;\n",
       "    } else {\n",
       "        alert('Your browser does not have WebSocket support. ' +\n",
       "              'Please try Chrome, Safari or Firefox ≥ 6. ' +\n",
       "              'Firefox 4 and 5 are also supported but you ' +\n",
       "              'have to enable WebSockets in about:config.');\n",
       "    };\n",
       "}\n",
       "\n",
       "mpl.figure = function(figure_id, websocket, ondownload, parent_element) {\n",
       "    this.id = figure_id;\n",
       "\n",
       "    this.ws = websocket;\n",
       "\n",
       "    this.supports_binary = (this.ws.binaryType != undefined);\n",
       "\n",
       "    if (!this.supports_binary) {\n",
       "        var warnings = document.getElementById(\"mpl-warnings\");\n",
       "        if (warnings) {\n",
       "            warnings.style.display = 'block';\n",
       "            warnings.textContent = (\n",
       "                \"This browser does not support binary websocket messages. \" +\n",
       "                    \"Performance may be slow.\");\n",
       "        }\n",
       "    }\n",
       "\n",
       "    this.imageObj = new Image();\n",
       "\n",
       "    this.context = undefined;\n",
       "    this.message = undefined;\n",
       "    this.canvas = undefined;\n",
       "    this.rubberband_canvas = undefined;\n",
       "    this.rubberband_context = undefined;\n",
       "    this.format_dropdown = undefined;\n",
       "\n",
       "    this.image_mode = 'full';\n",
       "\n",
       "    this.root = $('<div/>');\n",
       "    this._root_extra_style(this.root)\n",
       "    this.root.attr('style', 'display: inline-block');\n",
       "\n",
       "    $(parent_element).append(this.root);\n",
       "\n",
       "    this._init_header(this);\n",
       "    this._init_canvas(this);\n",
       "    this._init_toolbar(this);\n",
       "\n",
       "    var fig = this;\n",
       "\n",
       "    this.waiting = false;\n",
       "\n",
       "    this.ws.onopen =  function () {\n",
       "            fig.send_message(\"supports_binary\", {value: fig.supports_binary});\n",
       "            fig.send_message(\"send_image_mode\", {});\n",
       "            if (mpl.ratio != 1) {\n",
       "                fig.send_message(\"set_dpi_ratio\", {'dpi_ratio': mpl.ratio});\n",
       "            }\n",
       "            fig.send_message(\"refresh\", {});\n",
       "        }\n",
       "\n",
       "    this.imageObj.onload = function() {\n",
       "            if (fig.image_mode == 'full') {\n",
       "                // Full images could contain transparency (where diff images\n",
       "                // almost always do), so we need to clear the canvas so that\n",
       "                // there is no ghosting.\n",
       "                fig.context.clearRect(0, 0, fig.canvas.width, fig.canvas.height);\n",
       "            }\n",
       "            fig.context.drawImage(fig.imageObj, 0, 0);\n",
       "        };\n",
       "\n",
       "    this.imageObj.onunload = function() {\n",
       "        fig.ws.close();\n",
       "    }\n",
       "\n",
       "    this.ws.onmessage = this._make_on_message_function(this);\n",
       "\n",
       "    this.ondownload = ondownload;\n",
       "}\n",
       "\n",
       "mpl.figure.prototype._init_header = function() {\n",
       "    var titlebar = $(\n",
       "        '<div class=\"ui-dialog-titlebar ui-widget-header ui-corner-all ' +\n",
       "        'ui-helper-clearfix\"/>');\n",
       "    var titletext = $(\n",
       "        '<div class=\"ui-dialog-title\" style=\"width: 100%; ' +\n",
       "        'text-align: center; padding: 3px;\"/>');\n",
       "    titlebar.append(titletext)\n",
       "    this.root.append(titlebar);\n",
       "    this.header = titletext[0];\n",
       "}\n",
       "\n",
       "\n",
       "\n",
       "mpl.figure.prototype._canvas_extra_style = function(canvas_div) {\n",
       "\n",
       "}\n",
       "\n",
       "\n",
       "mpl.figure.prototype._root_extra_style = function(canvas_div) {\n",
       "\n",
       "}\n",
       "\n",
       "mpl.figure.prototype._init_canvas = function() {\n",
       "    var fig = this;\n",
       "\n",
       "    var canvas_div = $('<div/>');\n",
       "\n",
       "    canvas_div.attr('style', 'position: relative; clear: both; outline: 0');\n",
       "\n",
       "    function canvas_keyboard_event(event) {\n",
       "        return fig.key_event(event, event['data']);\n",
       "    }\n",
       "\n",
       "    canvas_div.keydown('key_press', canvas_keyboard_event);\n",
       "    canvas_div.keyup('key_release', canvas_keyboard_event);\n",
       "    this.canvas_div = canvas_div\n",
       "    this._canvas_extra_style(canvas_div)\n",
       "    this.root.append(canvas_div);\n",
       "\n",
       "    var canvas = $('<canvas/>');\n",
       "    canvas.addClass('mpl-canvas');\n",
       "    canvas.attr('style', \"left: 0; top: 0; z-index: 0; outline: 0\")\n",
       "\n",
       "    this.canvas = canvas[0];\n",
       "    this.context = canvas[0].getContext(\"2d\");\n",
       "\n",
       "    var backingStore = this.context.backingStorePixelRatio ||\n",
       "\tthis.context.webkitBackingStorePixelRatio ||\n",
       "\tthis.context.mozBackingStorePixelRatio ||\n",
       "\tthis.context.msBackingStorePixelRatio ||\n",
       "\tthis.context.oBackingStorePixelRatio ||\n",
       "\tthis.context.backingStorePixelRatio || 1;\n",
       "\n",
       "    mpl.ratio = (window.devicePixelRatio || 1) / backingStore;\n",
       "\n",
       "    var rubberband = $('<canvas/>');\n",
       "    rubberband.attr('style', \"position: absolute; left: 0; top: 0; z-index: 1;\")\n",
       "\n",
       "    var pass_mouse_events = true;\n",
       "\n",
       "    canvas_div.resizable({\n",
       "        start: function(event, ui) {\n",
       "            pass_mouse_events = false;\n",
       "        },\n",
       "        resize: function(event, ui) {\n",
       "            fig.request_resize(ui.size.width, ui.size.height);\n",
       "        },\n",
       "        stop: function(event, ui) {\n",
       "            pass_mouse_events = true;\n",
       "            fig.request_resize(ui.size.width, ui.size.height);\n",
       "        },\n",
       "    });\n",
       "\n",
       "    function mouse_event_fn(event) {\n",
       "        if (pass_mouse_events)\n",
       "            return fig.mouse_event(event, event['data']);\n",
       "    }\n",
       "\n",
       "    rubberband.mousedown('button_press', mouse_event_fn);\n",
       "    rubberband.mouseup('button_release', mouse_event_fn);\n",
       "    // Throttle sequential mouse events to 1 every 20ms.\n",
       "    rubberband.mousemove('motion_notify', mouse_event_fn);\n",
       "\n",
       "    rubberband.mouseenter('figure_enter', mouse_event_fn);\n",
       "    rubberband.mouseleave('figure_leave', mouse_event_fn);\n",
       "\n",
       "    canvas_div.on(\"wheel\", function (event) {\n",
       "        event = event.originalEvent;\n",
       "        event['data'] = 'scroll'\n",
       "        if (event.deltaY < 0) {\n",
       "            event.step = 1;\n",
       "        } else {\n",
       "            event.step = -1;\n",
       "        }\n",
       "        mouse_event_fn(event);\n",
       "    });\n",
       "\n",
       "    canvas_div.append(canvas);\n",
       "    canvas_div.append(rubberband);\n",
       "\n",
       "    this.rubberband = rubberband;\n",
       "    this.rubberband_canvas = rubberband[0];\n",
       "    this.rubberband_context = rubberband[0].getContext(\"2d\");\n",
       "    this.rubberband_context.strokeStyle = \"#000000\";\n",
       "\n",
       "    this._resize_canvas = function(width, height) {\n",
       "        // Keep the size of the canvas, canvas container, and rubber band\n",
       "        // canvas in synch.\n",
       "        canvas_div.css('width', width)\n",
       "        canvas_div.css('height', height)\n",
       "\n",
       "        canvas.attr('width', width * mpl.ratio);\n",
       "        canvas.attr('height', height * mpl.ratio);\n",
       "        canvas.attr('style', 'width: ' + width + 'px; height: ' + height + 'px;');\n",
       "\n",
       "        rubberband.attr('width', width);\n",
       "        rubberband.attr('height', height);\n",
       "    }\n",
       "\n",
       "    // Set the figure to an initial 600x600px, this will subsequently be updated\n",
       "    // upon first draw.\n",
       "    this._resize_canvas(600, 600);\n",
       "\n",
       "    // Disable right mouse context menu.\n",
       "    $(this.rubberband_canvas).bind(\"contextmenu\",function(e){\n",
       "        return false;\n",
       "    });\n",
       "\n",
       "    function set_focus () {\n",
       "        canvas.focus();\n",
       "        canvas_div.focus();\n",
       "    }\n",
       "\n",
       "    window.setTimeout(set_focus, 100);\n",
       "}\n",
       "\n",
       "mpl.figure.prototype._init_toolbar = function() {\n",
       "    var fig = this;\n",
       "\n",
       "    var nav_element = $('<div/>');\n",
       "    nav_element.attr('style', 'width: 100%');\n",
       "    this.root.append(nav_element);\n",
       "\n",
       "    // Define a callback function for later on.\n",
       "    function toolbar_event(event) {\n",
       "        return fig.toolbar_button_onclick(event['data']);\n",
       "    }\n",
       "    function toolbar_mouse_event(event) {\n",
       "        return fig.toolbar_button_onmouseover(event['data']);\n",
       "    }\n",
       "\n",
       "    for(var toolbar_ind in mpl.toolbar_items) {\n",
       "        var name = mpl.toolbar_items[toolbar_ind][0];\n",
       "        var tooltip = mpl.toolbar_items[toolbar_ind][1];\n",
       "        var image = mpl.toolbar_items[toolbar_ind][2];\n",
       "        var method_name = mpl.toolbar_items[toolbar_ind][3];\n",
       "\n",
       "        if (!name) {\n",
       "            // put a spacer in here.\n",
       "            continue;\n",
       "        }\n",
       "        var button = $('<button/>');\n",
       "        button.addClass('ui-button ui-widget ui-state-default ui-corner-all ' +\n",
       "                        'ui-button-icon-only');\n",
       "        button.attr('role', 'button');\n",
       "        button.attr('aria-disabled', 'false');\n",
       "        button.click(method_name, toolbar_event);\n",
       "        button.mouseover(tooltip, toolbar_mouse_event);\n",
       "\n",
       "        var icon_img = $('<span/>');\n",
       "        icon_img.addClass('ui-button-icon-primary ui-icon');\n",
       "        icon_img.addClass(image);\n",
       "        icon_img.addClass('ui-corner-all');\n",
       "\n",
       "        var tooltip_span = $('<span/>');\n",
       "        tooltip_span.addClass('ui-button-text');\n",
       "        tooltip_span.html(tooltip);\n",
       "\n",
       "        button.append(icon_img);\n",
       "        button.append(tooltip_span);\n",
       "\n",
       "        nav_element.append(button);\n",
       "    }\n",
       "\n",
       "    var fmt_picker_span = $('<span/>');\n",
       "\n",
       "    var fmt_picker = $('<select/>');\n",
       "    fmt_picker.addClass('mpl-toolbar-option ui-widget ui-widget-content');\n",
       "    fmt_picker_span.append(fmt_picker);\n",
       "    nav_element.append(fmt_picker_span);\n",
       "    this.format_dropdown = fmt_picker[0];\n",
       "\n",
       "    for (var ind in mpl.extensions) {\n",
       "        var fmt = mpl.extensions[ind];\n",
       "        var option = $(\n",
       "            '<option/>', {selected: fmt === mpl.default_extension}).html(fmt);\n",
       "        fmt_picker.append(option);\n",
       "    }\n",
       "\n",
       "    // Add hover states to the ui-buttons\n",
       "    $( \".ui-button\" ).hover(\n",
       "        function() { $(this).addClass(\"ui-state-hover\");},\n",
       "        function() { $(this).removeClass(\"ui-state-hover\");}\n",
       "    );\n",
       "\n",
       "    var status_bar = $('<span class=\"mpl-message\"/>');\n",
       "    nav_element.append(status_bar);\n",
       "    this.message = status_bar[0];\n",
       "}\n",
       "\n",
       "mpl.figure.prototype.request_resize = function(x_pixels, y_pixels) {\n",
       "    // Request matplotlib to resize the figure. Matplotlib will then trigger a resize in the client,\n",
       "    // which will in turn request a refresh of the image.\n",
       "    this.send_message('resize', {'width': x_pixels, 'height': y_pixels});\n",
       "}\n",
       "\n",
       "mpl.figure.prototype.send_message = function(type, properties) {\n",
       "    properties['type'] = type;\n",
       "    properties['figure_id'] = this.id;\n",
       "    this.ws.send(JSON.stringify(properties));\n",
       "}\n",
       "\n",
       "mpl.figure.prototype.send_draw_message = function() {\n",
       "    if (!this.waiting) {\n",
       "        this.waiting = true;\n",
       "        this.ws.send(JSON.stringify({type: \"draw\", figure_id: this.id}));\n",
       "    }\n",
       "}\n",
       "\n",
       "\n",
       "mpl.figure.prototype.handle_save = function(fig, msg) {\n",
       "    var format_dropdown = fig.format_dropdown;\n",
       "    var format = format_dropdown.options[format_dropdown.selectedIndex].value;\n",
       "    fig.ondownload(fig, format);\n",
       "}\n",
       "\n",
       "\n",
       "mpl.figure.prototype.handle_resize = function(fig, msg) {\n",
       "    var size = msg['size'];\n",
       "    if (size[0] != fig.canvas.width || size[1] != fig.canvas.height) {\n",
       "        fig._resize_canvas(size[0], size[1]);\n",
       "        fig.send_message(\"refresh\", {});\n",
       "    };\n",
       "}\n",
       "\n",
       "mpl.figure.prototype.handle_rubberband = function(fig, msg) {\n",
       "    var x0 = msg['x0'] / mpl.ratio;\n",
       "    var y0 = (fig.canvas.height - msg['y0']) / mpl.ratio;\n",
       "    var x1 = msg['x1'] / mpl.ratio;\n",
       "    var y1 = (fig.canvas.height - msg['y1']) / mpl.ratio;\n",
       "    x0 = Math.floor(x0) + 0.5;\n",
       "    y0 = Math.floor(y0) + 0.5;\n",
       "    x1 = Math.floor(x1) + 0.5;\n",
       "    y1 = Math.floor(y1) + 0.5;\n",
       "    var min_x = Math.min(x0, x1);\n",
       "    var min_y = Math.min(y0, y1);\n",
       "    var width = Math.abs(x1 - x0);\n",
       "    var height = Math.abs(y1 - y0);\n",
       "\n",
       "    fig.rubberband_context.clearRect(\n",
       "        0, 0, fig.canvas.width / mpl.ratio, fig.canvas.height / mpl.ratio);\n",
       "\n",
       "    fig.rubberband_context.strokeRect(min_x, min_y, width, height);\n",
       "}\n",
       "\n",
       "mpl.figure.prototype.handle_figure_label = function(fig, msg) {\n",
       "    // Updates the figure title.\n",
       "    fig.header.textContent = msg['label'];\n",
       "}\n",
       "\n",
       "mpl.figure.prototype.handle_cursor = function(fig, msg) {\n",
       "    var cursor = msg['cursor'];\n",
       "    switch(cursor)\n",
       "    {\n",
       "    case 0:\n",
       "        cursor = 'pointer';\n",
       "        break;\n",
       "    case 1:\n",
       "        cursor = 'default';\n",
       "        break;\n",
       "    case 2:\n",
       "        cursor = 'crosshair';\n",
       "        break;\n",
       "    case 3:\n",
       "        cursor = 'move';\n",
       "        break;\n",
       "    }\n",
       "    fig.rubberband_canvas.style.cursor = cursor;\n",
       "}\n",
       "\n",
       "mpl.figure.prototype.handle_message = function(fig, msg) {\n",
       "    fig.message.textContent = msg['message'];\n",
       "}\n",
       "\n",
       "mpl.figure.prototype.handle_draw = function(fig, msg) {\n",
       "    // Request the server to send over a new figure.\n",
       "    fig.send_draw_message();\n",
       "}\n",
       "\n",
       "mpl.figure.prototype.handle_image_mode = function(fig, msg) {\n",
       "    fig.image_mode = msg['mode'];\n",
       "}\n",
       "\n",
       "mpl.figure.prototype.updated_canvas_event = function() {\n",
       "    // Called whenever the canvas gets updated.\n",
       "    this.send_message(\"ack\", {});\n",
       "}\n",
       "\n",
       "// A function to construct a web socket function for onmessage handling.\n",
       "// Called in the figure constructor.\n",
       "mpl.figure.prototype._make_on_message_function = function(fig) {\n",
       "    return function socket_on_message(evt) {\n",
       "        if (evt.data instanceof Blob) {\n",
       "            /* FIXME: We get \"Resource interpreted as Image but\n",
       "             * transferred with MIME type text/plain:\" errors on\n",
       "             * Chrome.  But how to set the MIME type?  It doesn't seem\n",
       "             * to be part of the websocket stream */\n",
       "            evt.data.type = \"image/png\";\n",
       "\n",
       "            /* Free the memory for the previous frames */\n",
       "            if (fig.imageObj.src) {\n",
       "                (window.URL || window.webkitURL).revokeObjectURL(\n",
       "                    fig.imageObj.src);\n",
       "            }\n",
       "\n",
       "            fig.imageObj.src = (window.URL || window.webkitURL).createObjectURL(\n",
       "                evt.data);\n",
       "            fig.updated_canvas_event();\n",
       "            fig.waiting = false;\n",
       "            return;\n",
       "        }\n",
       "        else if (typeof evt.data === 'string' && evt.data.slice(0, 21) == \"data:image/png;base64\") {\n",
       "            fig.imageObj.src = evt.data;\n",
       "            fig.updated_canvas_event();\n",
       "            fig.waiting = false;\n",
       "            return;\n",
       "        }\n",
       "\n",
       "        var msg = JSON.parse(evt.data);\n",
       "        var msg_type = msg['type'];\n",
       "\n",
       "        // Call the  \"handle_{type}\" callback, which takes\n",
       "        // the figure and JSON message as its only arguments.\n",
       "        try {\n",
       "            var callback = fig[\"handle_\" + msg_type];\n",
       "        } catch (e) {\n",
       "            console.log(\"No handler for the '\" + msg_type + \"' message type: \", msg);\n",
       "            return;\n",
       "        }\n",
       "\n",
       "        if (callback) {\n",
       "            try {\n",
       "                // console.log(\"Handling '\" + msg_type + \"' message: \", msg);\n",
       "                callback(fig, msg);\n",
       "            } catch (e) {\n",
       "                console.log(\"Exception inside the 'handler_\" + msg_type + \"' callback:\", e, e.stack, msg);\n",
       "            }\n",
       "        }\n",
       "    };\n",
       "}\n",
       "\n",
       "// from http://stackoverflow.com/questions/1114465/getting-mouse-location-in-canvas\n",
       "mpl.findpos = function(e) {\n",
       "    //this section is from http://www.quirksmode.org/js/events_properties.html\n",
       "    var targ;\n",
       "    if (!e)\n",
       "        e = window.event;\n",
       "    if (e.target)\n",
       "        targ = e.target;\n",
       "    else if (e.srcElement)\n",
       "        targ = e.srcElement;\n",
       "    if (targ.nodeType == 3) // defeat Safari bug\n",
       "        targ = targ.parentNode;\n",
       "\n",
       "    // jQuery normalizes the pageX and pageY\n",
       "    // pageX,Y are the mouse positions relative to the document\n",
       "    // offset() returns the position of the element relative to the document\n",
       "    var x = e.pageX - $(targ).offset().left;\n",
       "    var y = e.pageY - $(targ).offset().top;\n",
       "\n",
       "    return {\"x\": x, \"y\": y};\n",
       "};\n",
       "\n",
       "/*\n",
       " * return a copy of an object with only non-object keys\n",
       " * we need this to avoid circular references\n",
       " * http://stackoverflow.com/a/24161582/3208463\n",
       " */\n",
       "function simpleKeys (original) {\n",
       "  return Object.keys(original).reduce(function (obj, key) {\n",
       "    if (typeof original[key] !== 'object')\n",
       "        obj[key] = original[key]\n",
       "    return obj;\n",
       "  }, {});\n",
       "}\n",
       "\n",
       "mpl.figure.prototype.mouse_event = function(event, name) {\n",
       "    var canvas_pos = mpl.findpos(event)\n",
       "\n",
       "    if (name === 'button_press')\n",
       "    {\n",
       "        this.canvas.focus();\n",
       "        this.canvas_div.focus();\n",
       "    }\n",
       "\n",
       "    var x = canvas_pos.x * mpl.ratio;\n",
       "    var y = canvas_pos.y * mpl.ratio;\n",
       "\n",
       "    this.send_message(name, {x: x, y: y, button: event.button,\n",
       "                             step: event.step,\n",
       "                             guiEvent: simpleKeys(event)});\n",
       "\n",
       "    /* This prevents the web browser from automatically changing to\n",
       "     * the text insertion cursor when the button is pressed.  We want\n",
       "     * to control all of the cursor setting manually through the\n",
       "     * 'cursor' event from matplotlib */\n",
       "    event.preventDefault();\n",
       "    return false;\n",
       "}\n",
       "\n",
       "mpl.figure.prototype._key_event_extra = function(event, name) {\n",
       "    // Handle any extra behaviour associated with a key event\n",
       "}\n",
       "\n",
       "mpl.figure.prototype.key_event = function(event, name) {\n",
       "\n",
       "    // Prevent repeat events\n",
       "    if (name == 'key_press')\n",
       "    {\n",
       "        if (event.which === this._key)\n",
       "            return;\n",
       "        else\n",
       "            this._key = event.which;\n",
       "    }\n",
       "    if (name == 'key_release')\n",
       "        this._key = null;\n",
       "\n",
       "    var value = '';\n",
       "    if (event.ctrlKey && event.which != 17)\n",
       "        value += \"ctrl+\";\n",
       "    if (event.altKey && event.which != 18)\n",
       "        value += \"alt+\";\n",
       "    if (event.shiftKey && event.which != 16)\n",
       "        value += \"shift+\";\n",
       "\n",
       "    value += 'k';\n",
       "    value += event.which.toString();\n",
       "\n",
       "    this._key_event_extra(event, name);\n",
       "\n",
       "    this.send_message(name, {key: value,\n",
       "                             guiEvent: simpleKeys(event)});\n",
       "    return false;\n",
       "}\n",
       "\n",
       "mpl.figure.prototype.toolbar_button_onclick = function(name) {\n",
       "    if (name == 'download') {\n",
       "        this.handle_save(this, null);\n",
       "    } else {\n",
       "        this.send_message(\"toolbar_button\", {name: name});\n",
       "    }\n",
       "};\n",
       "\n",
       "mpl.figure.prototype.toolbar_button_onmouseover = function(tooltip) {\n",
       "    this.message.textContent = tooltip;\n",
       "};\n",
       "mpl.toolbar_items = [[\"Home\", \"Reset original view\", \"fa fa-home icon-home\", \"home\"], [\"Back\", \"Back to previous view\", \"fa fa-arrow-left icon-arrow-left\", \"back\"], [\"Forward\", \"Forward to next view\", \"fa fa-arrow-right icon-arrow-right\", \"forward\"], [\"\", \"\", \"\", \"\"], [\"Pan\", \"Pan axes with left mouse, zoom with right\", \"fa fa-arrows icon-move\", \"pan\"], [\"Zoom\", \"Zoom to rectangle\", \"fa fa-square-o icon-check-empty\", \"zoom\"], [\"\", \"\", \"\", \"\"], [\"Download\", \"Download plot\", \"fa fa-floppy-o icon-save\", \"download\"]];\n",
       "\n",
       "mpl.extensions = [\"eps\", \"jpeg\", \"pdf\", \"png\", \"ps\", \"raw\", \"svg\", \"tif\"];\n",
       "\n",
       "mpl.default_extension = \"png\";var comm_websocket_adapter = function(comm) {\n",
       "    // Create a \"websocket\"-like object which calls the given IPython comm\n",
       "    // object with the appropriate methods. Currently this is a non binary\n",
       "    // socket, so there is still some room for performance tuning.\n",
       "    var ws = {};\n",
       "\n",
       "    ws.close = function() {\n",
       "        comm.close()\n",
       "    };\n",
       "    ws.send = function(m) {\n",
       "        //console.log('sending', m);\n",
       "        comm.send(m);\n",
       "    };\n",
       "    // Register the callback with on_msg.\n",
       "    comm.on_msg(function(msg) {\n",
       "        //console.log('receiving', msg['content']['data'], msg);\n",
       "        // Pass the mpl event to the overridden (by mpl) onmessage function.\n",
       "        ws.onmessage(msg['content']['data'])\n",
       "    });\n",
       "    return ws;\n",
       "}\n",
       "\n",
       "mpl.mpl_figure_comm = function(comm, msg) {\n",
       "    // This is the function which gets called when the mpl process\n",
       "    // starts-up an IPython Comm through the \"matplotlib\" channel.\n",
       "\n",
       "    var id = msg.content.data.id;\n",
       "    // Get hold of the div created by the display call when the Comm\n",
       "    // socket was opened in Python.\n",
       "    var element = $(\"#\" + id);\n",
       "    var ws_proxy = comm_websocket_adapter(comm)\n",
       "\n",
       "    function ondownload(figure, format) {\n",
       "        window.open(figure.imageObj.src);\n",
       "    }\n",
       "\n",
       "    var fig = new mpl.figure(id, ws_proxy,\n",
       "                           ondownload,\n",
       "                           element.get(0));\n",
       "\n",
       "    // Call onopen now - mpl needs it, as it is assuming we've passed it a real\n",
       "    // web socket which is closed, not our websocket->open comm proxy.\n",
       "    ws_proxy.onopen();\n",
       "\n",
       "    fig.parent_element = element.get(0);\n",
       "    fig.cell_info = mpl.find_output_cell(\"<div id='\" + id + \"'></div>\");\n",
       "    if (!fig.cell_info) {\n",
       "        console.error(\"Failed to find cell for figure\", id, fig);\n",
       "        return;\n",
       "    }\n",
       "\n",
       "    var output_index = fig.cell_info[2]\n",
       "    var cell = fig.cell_info[0];\n",
       "\n",
       "};\n",
       "\n",
       "mpl.figure.prototype.handle_close = function(fig, msg) {\n",
       "    var width = fig.canvas.width/mpl.ratio\n",
       "    fig.root.unbind('remove')\n",
       "\n",
       "    // Update the output cell to use the data from the current canvas.\n",
       "    fig.push_to_output();\n",
       "    var dataURL = fig.canvas.toDataURL();\n",
       "    // Re-enable the keyboard manager in IPython - without this line, in FF,\n",
       "    // the notebook keyboard shortcuts fail.\n",
       "    IPython.keyboard_manager.enable()\n",
       "    $(fig.parent_element).html('<img src=\"' + dataURL + '\" width=\"' + width + '\">');\n",
       "    fig.close_ws(fig, msg);\n",
       "}\n",
       "\n",
       "mpl.figure.prototype.close_ws = function(fig, msg){\n",
       "    fig.send_message('closing', msg);\n",
       "    // fig.ws.close()\n",
       "}\n",
       "\n",
       "mpl.figure.prototype.push_to_output = function(remove_interactive) {\n",
       "    // Turn the data on the canvas into data in the output cell.\n",
       "    var width = this.canvas.width/mpl.ratio\n",
       "    var dataURL = this.canvas.toDataURL();\n",
       "    this.cell_info[1]['text/html'] = '<img src=\"' + dataURL + '\" width=\"' + width + '\">';\n",
       "}\n",
       "\n",
       "mpl.figure.prototype.updated_canvas_event = function() {\n",
       "    // Tell IPython that the notebook contents must change.\n",
       "    IPython.notebook.set_dirty(true);\n",
       "    this.send_message(\"ack\", {});\n",
       "    var fig = this;\n",
       "    // Wait a second, then push the new image to the DOM so\n",
       "    // that it is saved nicely (might be nice to debounce this).\n",
       "    setTimeout(function () { fig.push_to_output() }, 1000);\n",
       "}\n",
       "\n",
       "mpl.figure.prototype._init_toolbar = function() {\n",
       "    var fig = this;\n",
       "\n",
       "    var nav_element = $('<div/>');\n",
       "    nav_element.attr('style', 'width: 100%');\n",
       "    this.root.append(nav_element);\n",
       "\n",
       "    // Define a callback function for later on.\n",
       "    function toolbar_event(event) {\n",
       "        return fig.toolbar_button_onclick(event['data']);\n",
       "    }\n",
       "    function toolbar_mouse_event(event) {\n",
       "        return fig.toolbar_button_onmouseover(event['data']);\n",
       "    }\n",
       "\n",
       "    for(var toolbar_ind in mpl.toolbar_items){\n",
       "        var name = mpl.toolbar_items[toolbar_ind][0];\n",
       "        var tooltip = mpl.toolbar_items[toolbar_ind][1];\n",
       "        var image = mpl.toolbar_items[toolbar_ind][2];\n",
       "        var method_name = mpl.toolbar_items[toolbar_ind][3];\n",
       "\n",
       "        if (!name) { continue; };\n",
       "\n",
       "        var button = $('<button class=\"btn btn-default\" href=\"#\" title=\"' + name + '\"><i class=\"fa ' + image + ' fa-lg\"></i></button>');\n",
       "        button.click(method_name, toolbar_event);\n",
       "        button.mouseover(tooltip, toolbar_mouse_event);\n",
       "        nav_element.append(button);\n",
       "    }\n",
       "\n",
       "    // Add the status bar.\n",
       "    var status_bar = $('<span class=\"mpl-message\" style=\"text-align:right; float: right;\"/>');\n",
       "    nav_element.append(status_bar);\n",
       "    this.message = status_bar[0];\n",
       "\n",
       "    // Add the close button to the window.\n",
       "    var buttongrp = $('<div class=\"btn-group inline pull-right\"></div>');\n",
       "    var button = $('<button class=\"btn btn-mini btn-primary\" href=\"#\" title=\"Stop Interaction\"><i class=\"fa fa-power-off icon-remove icon-large\"></i></button>');\n",
       "    button.click(function (evt) { fig.handle_close(fig, {}); } );\n",
       "    button.mouseover('Stop Interaction', toolbar_mouse_event);\n",
       "    buttongrp.append(button);\n",
       "    var titlebar = this.root.find($('.ui-dialog-titlebar'));\n",
       "    titlebar.prepend(buttongrp);\n",
       "}\n",
       "\n",
       "mpl.figure.prototype._root_extra_style = function(el){\n",
       "    var fig = this\n",
       "    el.on(\"remove\", function(){\n",
       "\tfig.close_ws(fig, {});\n",
       "    });\n",
       "}\n",
       "\n",
       "mpl.figure.prototype._canvas_extra_style = function(el){\n",
       "    // this is important to make the div 'focusable\n",
       "    el.attr('tabindex', 0)\n",
       "    // reach out to IPython and tell the keyboard manager to turn it's self\n",
       "    // off when our div gets focus\n",
       "\n",
       "    // location in version 3\n",
       "    if (IPython.notebook.keyboard_manager) {\n",
       "        IPython.notebook.keyboard_manager.register_events(el);\n",
       "    }\n",
       "    else {\n",
       "        // location in version 2\n",
       "        IPython.keyboard_manager.register_events(el);\n",
       "    }\n",
       "\n",
       "}\n",
       "\n",
       "mpl.figure.prototype._key_event_extra = function(event, name) {\n",
       "    var manager = IPython.notebook.keyboard_manager;\n",
       "    if (!manager)\n",
       "        manager = IPython.keyboard_manager;\n",
       "\n",
       "    // Check for shift+enter\n",
       "    if (event.shiftKey && event.which == 13) {\n",
       "        this.canvas_div.blur();\n",
       "        // select the cell after this one\n",
       "        var index = IPython.notebook.find_cell_index(this.cell_info[0]);\n",
       "        IPython.notebook.select(index + 1);\n",
       "    }\n",
       "}\n",
       "\n",
       "mpl.figure.prototype.handle_save = function(fig, msg) {\n",
       "    fig.ondownload(fig, null);\n",
       "}\n",
       "\n",
       "\n",
       "mpl.find_output_cell = function(html_output) {\n",
       "    // Return the cell and output element which can be found *uniquely* in the notebook.\n",
       "    // Note - this is a bit hacky, but it is done because the \"notebook_saving.Notebook\"\n",
       "    // IPython event is triggered only after the cells have been serialised, which for\n",
       "    // our purposes (turning an active figure into a static one), is too late.\n",
       "    var cells = IPython.notebook.get_cells();\n",
       "    var ncells = cells.length;\n",
       "    for (var i=0; i<ncells; i++) {\n",
       "        var cell = cells[i];\n",
       "        if (cell.cell_type === 'code'){\n",
       "            for (var j=0; j<cell.output_area.outputs.length; j++) {\n",
       "                var data = cell.output_area.outputs[j];\n",
       "                if (data.data) {\n",
       "                    // IPython >= 3 moved mimebundle to data attribute of output\n",
       "                    data = data.data;\n",
       "                }\n",
       "                if (data['text/html'] == html_output) {\n",
       "                    return [cell, data, j];\n",
       "                }\n",
       "            }\n",
       "        }\n",
       "    }\n",
       "}\n",
       "\n",
       "// Register the function which deals with the matplotlib target/channel.\n",
       "// The kernel may be null if the page has been refreshed.\n",
       "if (IPython.notebook.kernel != null) {\n",
       "    IPython.notebook.kernel.comm_manager.register_target('matplotlib', mpl.mpl_figure_comm);\n",
       "}\n"
      ],
      "text/plain": [
       "<IPython.core.display.Javascript object>"
      ]
     },
     "metadata": {},
     "output_type": "display_data"
    },
    {
     "data": {
      "text/html": [
       "<img src=\"data:image/png;base64,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\" width=\"760\">"
      ],
      "text/plain": [
       "<IPython.core.display.HTML object>"
      ]
     },
     "metadata": {},
     "output_type": "display_data"
    }
   ],
   "source": [
    "%matplotlib notebook\n",
    "x=np.linspace(0,10,100)\n",
    "plt.plot(x,np.sin(x))\n",
    "plt.plot(x,np.cos(x));"
   ]
  },
  {
   "cell_type": "code",
   "execution_count": 105,
   "metadata": {},
   "outputs": [
    {
     "data": {
      "image/png": "[encoded data removed]",
      "text/plain": [
       "<Figure size 432x288 with 1 Axes>"
      ]
     },
     "metadata": {
      "needs_background": "light"
     },
     "output_type": "display_data"
    }
   ],
   "source": [
    "%matplotlib inline\n",
    "x=np.linspace(0,10,100)\n",
    "plt.plot(x,np.sin(x))\n",
    "plt.plot(x,np.cos(x));"
   ]
  },
  {
   "cell_type": "code",
   "execution_count": 109,
   "metadata": {},
   "outputs": [
    {
     "data": {
      "image/png": "[encoded data removed]",
      "text/plain": [
       "<Figure size 432x288 with 1 Axes>"
      ]
     },
     "metadata": {
      "needs_background": "light"
     },
     "output_type": "display_data"
    }
   ],
   "source": [
    "x=np.linspace(0,10,100)\n",
    "plt.plot(x,np.sin(x),'-')\n",
    "plt.plot(x,np.cos(x),'--');"
   ]
  },
  {
   "cell_type": "code",
   "execution_count": 111,
   "metadata": {},
   "outputs": [
    {
     "data": {
      "image/png": "[encoded data removed]",
      "text/plain": [
       "<Figure size 432x288 with 2 Axes>"
      ]
     },
     "metadata": {
      "needs_background": "light"
     },
     "output_type": "display_data"
    }
   ],
   "source": [
    "plt.figure()\n",
    "plt.subplot(2,1,1)\n",
    "plt.plot(x,np.sin(x),'-')\n",
    "plt.subplot(2,1,2)\n",
    "plt.plot(x,np.cos(x),'--');"
   ]
  },
  {
   "cell_type": "code",
   "execution_count": 114,
   "metadata": {},
   "outputs": [
    {
     "data": {
      "image/png": "[encoded data removed]",
      "text/plain": [
       "<Figure size 432x288 with 1 Axes>"
      ]
     },
     "metadata": {
      "needs_background": "light"
     },
     "output_type": "display_data"
    }
   ],
   "source": [
    "plt.plot(x,np.sin(x))\n",
    "plt.title(\"sine curve\")\n",
    "plt.xlabel(\"x\")\n",
    "plt.ylabel(\"sin(x)\");"
   ]
  },
  {
   "cell_type": "code",
   "execution_count": 118,
   "metadata": {},
   "outputs": [
    {
     "data": {
      "image/png": "[encoded data removed]",
      "text/plain": [
       "<Figure size 432x288 with 1 Axes>"
      ]
     },
     "metadata": {
      "needs_background": "light"
     },
     "output_type": "display_data"
    }
   ],
   "source": [
    "plt.plot(x,np.sin(x),'-g',label=\"sin(x)\")\n",
    "plt.plot(x,np.cos(x),':b',label=\"cos(x)\")\n",
    "plt.legend();"
   ]
  },
  {
   "cell_type": "code",
   "execution_count": null,
   "metadata": {},
   "outputs": [],
   "source": []
  }
 ],
 "metadata": {
  "kernelspec": {
   "display_name": "Python 3",
   "language": "python",
   "name": "python3"
  },
  "language_info": {
   "codemirror_mode": {
    "name": "ipython",
    "version": 3
   },
   "file_extension": ".py",
   "mimetype": "text/x-python",
   "name": "python",
   "nbconvert_exporter": "python",
   "pygments_lexer": "ipython3",
   "version": "3.8.3"
  }
 },
 "nbformat": 4,
 "nbformat_minor": 4
}
